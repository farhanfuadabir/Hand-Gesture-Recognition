{
 "cells": [
  {
   "cell_type": "code",
   "execution_count": 1,
   "metadata": {},
   "outputs": [
    {
     "name": "stderr",
     "output_type": "stream",
     "text": [
      "/home/andromeda/sketchbook/ContinuousDataAcquisition/data/ai/lib/python3.7/site-packages/pandas/compat/__init__.py:85: UserWarning: Could not import the lzma module. Your installed Python is incomplete. Attempting to use lzma compression will result in a RuntimeError.\n",
      "  warnings.warn(msg)\n"
     ]
    }
   ],
   "source": [
    "%matplotlib inline\n",
    "import numpy as np\n",
    "import pandas as pd\n",
    "import seaborn as sn\n",
    "import matplotlib.pyplot as plt\n",
    "from sklearn.utils import shuffle\n",
    "from sklearn.model_selection import train_test_split\n",
    "from sklearn.neighbors import KNeighborsClassifier\n",
    "from sklearn import svm\n",
    "from sklearn.ensemble import RandomForestClassifier\n",
    "from sklearn.tree import DecisionTreeClassifier\n",
    "from sklearn.metrics import confusion_matrix\n",
    "from sklearn.utils.multiclass import unique_labels\n",
    "from sklearn.metrics import precision_score\n",
    "from sklearn.metrics import recall_score\n",
    "from sklearn.metrics import balanced_accuracy_score\n",
    "from sklearn.metrics import classification_report"
   ]
  },
  {
   "cell_type": "code",
   "execution_count": 2,
   "metadata": {},
   "outputs": [],
   "source": [
    "def plot_confusion_matrix(y_true, y_pred, classes,\n",
    "        normalize = False,\n",
    "        title = None,\n",
    "        cmap = plt.cm.Blues):\n",
    "\n",
    "    cm = confusion_matrix(y_true, y_pred)\n",
    "    sn.heatmap(cm,annot=True,linewidths=1, fmt = 'd')\n",
    "    plt.figure(figsize=(10,7))\n",
    "    plt.xlabel('predicted')\n",
    "    plt.ylabel('Truth')\n",
    "#     if normalize:\n",
    "#         cm = cm.astype('float') / cm.sum(axis = 1)[: , np.newaxis]\n",
    "#         print(\"Normalized confusion matrix\")\n",
    "#     else :\n",
    "#         print('Confusion matrix, without normalization')\n",
    "\n",
    "#     print(cm)\n",
    "\n",
    "#     classes = unique_labels(y_true)\n",
    "\n",
    "#     fig, ax = plt.subplots()\n",
    "#     im = ax.imshow(cm, interpolation = 'nearest', cmap = cmap)\n",
    "#     ax.figure.colorbar(im, ax = ax)# We want to show all ticks...\n",
    "#     ax.set(xticks = np.arange(cm.shape[1]),\n",
    "#         yticks = np.arange(cm.shape[0]),\n",
    "#         xticklabels = classes, yticklabels = classes,\n",
    "#         title = title,\n",
    "#         ylabel = 'True label',\n",
    "#         xlabel = 'Predicted label')\n",
    "\n",
    "#     plt.setp(ax.get_xticklabels(), rotation = 45, ha = \"right\",\n",
    "#         rotation_mode = \"anchor\")\n",
    "#     fmt = '.2f' if normalize else 'd'\n",
    "#     thresh = cm.max() / 2.\n",
    "#     for i in range(cm.shape[0]):\n",
    "#         for j in range(cm.shape[1]):\n",
    "#             ax.text(j, i, format(cm[i, j], fmt),\n",
    "#                 ha = \"center\", va = \"center\",\n",
    "#                 color = \"white\"\n",
    "#                 if cm[i, j] > thresh\n",
    "#                 else \"black\")\n",
    "#     plt.show()\n",
    "#     return ax"
   ]
  },
  {
   "cell_type": "code",
   "execution_count": 3,
   "metadata": {},
   "outputs": [],
   "source": [
    "X = np.array(pd.read_csv('feature_vector.csv'))\n",
    "y = np.array(pd.read_csv('window_labels.csv'))\n",
    "X_train, X_test, y_train, y_test = train_test_split(X, y, test_size=0.3, random_state=42)\n",
    "y_train = y_train.ravel()\n",
    "y_test = y_test.ravel()"
   ]
  },
  {
   "cell_type": "code",
   "execution_count": 4,
   "metadata": {},
   "outputs": [
    {
     "name": "stdout",
     "output_type": "stream",
     "text": [
      "KNN : 98.63945578231292 %\n",
      "Precision:  [1.         1.         0.95744681]\n",
      "Recall:  [0.96363636 1.         1.        ]\n",
      "BCR:  0.9878787878787879\n"
     ]
    },
    {
     "data": {
      "image/png": "[encoded data removed]",
      "text/plain": [
       "<Figure size 432x288 with 2 Axes>"
      ]
     },
     "metadata": {
      "needs_background": "light"
     },
     "output_type": "display_data"
    }
   ],
   "source": [
    "clf1 = KNeighborsClassifier(n_neighbors=7);\n",
    "clf1.fit(X_train, y_train);\n",
    "print(\"KNN :\", clf1.score(X_test, y_test)*100 , \"%\")\n",
    "y_pred = clf1.predict(X_test)\n",
    "print(\"Precision: \", precision_score(y_test, y_pred, average=None))\n",
    "print(\"Recall: \", recall_score(y_test, y_pred, average=None))\n",
    "print(\"BCR: \", balanced_accuracy_score(y_test, y_pred))\n",
    "plot_confusion_matrix(y_test, y_pred, classes=['Painting', 'Thank You', 'Sorry'], title='KNN Confusion Matrix')\n",
    "plt.show()"
   ]
  },
  {
   "cell_type": "code",
   "execution_count": null,
   "metadata": {},
   "outputs": [],
   "source": [
    "clf2 = svm.SVC(kernel='rbf', gamma='scale');\n",
    "clf2.fit(X_train, y_train);\n",
    "print(\"SVM :\", clf2.score(X_test, y_test)*100 , \"%\")\n",
    "y_pred = clf2.predict(X_test)\n",
    "print(\"Precision: \", precision_score(y_test, y_pred, average=None))\n",
    "print(\"Recall: \", recall_score(y_test, y_pred, average=None))\n",
    "print(\"BCR: \", balanced_accuracy_score(y_test, y_pred))"
   ]
  },
  {
   "cell_type": "code",
   "execution_count": null,
   "metadata": {},
   "outputs": [],
   "source": [
    "clf3 = RandomForestClassifier(n_estimators=10, max_depth=7, random_state=0);\n",
    "clf3.fit(X_train, y_train);\n",
    "print(\"RnF :\", clf3.score(X_test, y_test)*100 , \"%\")\n",
    "y_pred = clf3.predict(X_test)\n",
    "print(\"Precision: \", precision_score(y_test, y_pred, average=None))\n",
    "print(\"Recall: \", recall_score(y_test, y_pred, average=None))\n",
    "print(\"BCR: \", balanced_accuracy_score(y_test, y_pred))"
   ]
  },
  {
   "cell_type": "code",
   "execution_count": null,
   "metadata": {},
   "outputs": [],
   "source": [
    "clf4 = DecisionTreeClassifier();\n",
    "clf4.fit(X_train, y_train);\n",
    "print(\"DT :\", clf4.score(X_test, y_test)*100 , \"%\")\n",
    "y_pred = clf4.predict(X_test)\n",
    "print(\"Precision: \", precision_score(y_test, y_pred, average=None))\n",
    "print(\"Recall: \", recall_score(y_test, y_pred, average=None))\n",
    "print(\"BCR: \", balanced_accuracy_score(y_test, y_pred))"
   ]
  },
  {
   "cell_type": "code",
   "execution_count": null,
   "metadata": {},
   "outputs": [],
   "source": []
  },
  {
   "cell_type": "code",
   "execution_count": null,
   "metadata": {},
   "outputs": [],
   "source": []
  }
 ],
 "metadata": {
  "kernelspec": {
   "display_name": "Python 3",
   "language": "python",
   "name": "python3"
  },
  "language_info": {
   "codemirror_mode": {
    "name": "ipython",
    "version": 3
   },
   "file_extension": ".py",
   "mimetype": "text/x-python",
   "name": "python",
   "nbconvert_exporter": "python",
   "pygments_lexer": "ipython3",
   "version": "3.7.4"
  }
 },
 "nbformat": 4,
 "nbformat_minor": 2
}
